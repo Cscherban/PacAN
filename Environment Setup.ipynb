{
 "cells": [
  {
   "cell_type": "code",
   "execution_count": 4,
   "metadata": {},
   "outputs": [
    {
     "name": "stdout",
     "output_type": "stream",
     "text": [
      "\u001b[33mDEPRECATION: Python 2.7 will reach the end of its life on January 1st, 2020. Please upgrade your Python as Python 2.7 won't be maintained after that date. A future version of pip will drop support for Python 2.7. More details about Python 2 support in pip, can be found at https://pip.pypa.io/en/latest/development/release-process/#python-2-support\u001b[0m\n",
      "Collecting tensorflow-gpu\n",
      "\u001b[?25l  Downloading https://files.pythonhosted.org/packages/42/4a/54bee8951b5a7653c9b9d13c223e430ce7f14ebd462558b375f1c2c3c462/tensorflow_gpu-2.1.0-cp27-cp27mu-manylinux2010_x86_64.whl (421.8MB)\n",
      "\u001b[K     |████████████████████████████████| 421.8MB 99kB/s  eta 0:00:01\n",
      "\u001b[?25hRequirement already satisfied, skipping upgrade: keras-preprocessing>=1.1.0 in /home/sergeys/anaconda3/envs/ipykernel_py2/lib/python2.7/site-packages (from tensorflow-gpu) (1.1.0)\n",
      "Requirement already satisfied, skipping upgrade: wrapt>=1.11.1 in /home/sergeys/anaconda3/envs/ipykernel_py2/lib/python2.7/site-packages (from tensorflow-gpu) (1.12.1)\n",
      "Requirement already satisfied, skipping upgrade: astor>=0.6.0 in /home/sergeys/anaconda3/envs/ipykernel_py2/lib/python2.7/site-packages (from tensorflow-gpu) (0.8.1)\n",
      "Requirement already satisfied, skipping upgrade: six>=1.12.0 in /home/sergeys/anaconda3/envs/ipykernel_py2/lib/python2.7/site-packages (from tensorflow-gpu) (1.13.0)\n",
      "Requirement already satisfied, skipping upgrade: keras-applications>=1.0.8 in /home/sergeys/anaconda3/envs/ipykernel_py2/lib/python2.7/site-packages (from tensorflow-gpu) (1.0.8)\n",
      "Requirement already satisfied, skipping upgrade: numpy<2.0,>=1.16.0 in /home/sergeys/anaconda3/envs/ipykernel_py2/lib/python2.7/site-packages (from tensorflow-gpu) (1.16.6)\n",
      "Requirement already satisfied, skipping upgrade: gast==0.2.2 in /home/sergeys/anaconda3/envs/ipykernel_py2/lib/python2.7/site-packages (from tensorflow-gpu) (0.2.2)\n",
      "Requirement already satisfied, skipping upgrade: backports.weakref>=1.0rc1; python_version < \"3.4\" in /home/sergeys/anaconda3/envs/ipykernel_py2/lib/python2.7/site-packages (from tensorflow-gpu) (1.0.post1)\n",
      "Requirement already satisfied, skipping upgrade: opt-einsum>=2.3.2 in /home/sergeys/anaconda3/envs/ipykernel_py2/lib/python2.7/site-packages (from tensorflow-gpu) (2.3.2)\n",
      "Requirement already satisfied, skipping upgrade: termcolor>=1.1.0 in /home/sergeys/anaconda3/envs/ipykernel_py2/lib/python2.7/site-packages (from tensorflow-gpu) (1.1.0)\n",
      "Requirement already satisfied, skipping upgrade: functools32>=3.2.3; python_version < \"3\" in /home/sergeys/anaconda3/envs/ipykernel_py2/lib/python2.7/site-packages (from tensorflow-gpu) (3.2.3.post2)\n",
      "Requirement already satisfied, skipping upgrade: google-pasta>=0.1.6 in /home/sergeys/anaconda3/envs/ipykernel_py2/lib/python2.7/site-packages (from tensorflow-gpu) (0.2.0)\n",
      "Requirement already satisfied, skipping upgrade: wheel; python_version < \"3\" in /home/sergeys/anaconda3/envs/ipykernel_py2/lib/python2.7/site-packages (from tensorflow-gpu) (0.33.6)\n",
      "Requirement already satisfied, skipping upgrade: tensorboard<2.2.0,>=2.1.0 in /home/sergeys/anaconda3/envs/ipykernel_py2/lib/python2.7/site-packages (from tensorflow-gpu) (2.1.0)\n",
      "Requirement already satisfied, skipping upgrade: mock>=2.0.0; python_version < \"3\" in /home/sergeys/anaconda3/envs/ipykernel_py2/lib/python2.7/site-packages (from tensorflow-gpu) (3.0.5)\n",
      "Requirement already satisfied, skipping upgrade: tensorflow-estimator<2.2.0,>=2.1.0rc0 in /home/sergeys/anaconda3/envs/ipykernel_py2/lib/python2.7/site-packages (from tensorflow-gpu) (2.1.0)\n",
      "Requirement already satisfied, skipping upgrade: absl-py>=0.7.0 in /home/sergeys/anaconda3/envs/ipykernel_py2/lib/python2.7/site-packages (from tensorflow-gpu) (0.9.0)\n",
      "Requirement already satisfied, skipping upgrade: grpcio>=1.8.6 in /home/sergeys/anaconda3/envs/ipykernel_py2/lib/python2.7/site-packages (from tensorflow-gpu) (1.28.1)\n",
      "Requirement already satisfied, skipping upgrade: enum34>=1.1.6; python_version < \"3.4\" in /home/sergeys/anaconda3/envs/ipykernel_py2/lib/python2.7/site-packages (from tensorflow-gpu) (1.1.6)\n",
      "Requirement already satisfied, skipping upgrade: protobuf>=3.8.0 in /home/sergeys/anaconda3/envs/ipykernel_py2/lib/python2.7/site-packages (from tensorflow-gpu) (3.11.3)\n",
      "Requirement already satisfied, skipping upgrade: scipy==1.2.2; python_version < \"3\" in /home/sergeys/anaconda3/envs/ipykernel_py2/lib/python2.7/site-packages (from tensorflow-gpu) (1.2.2)\n",
      "Requirement already satisfied, skipping upgrade: h5py in /home/sergeys/anaconda3/envs/ipykernel_py2/lib/python2.7/site-packages (from keras-applications>=1.0.8->tensorflow-gpu) (2.10.0)\n",
      "Requirement already satisfied, skipping upgrade: google-auth-oauthlib<0.5,>=0.4.1 in /home/sergeys/anaconda3/envs/ipykernel_py2/lib/python2.7/site-packages (from tensorboard<2.2.0,>=2.1.0->tensorflow-gpu) (0.4.1)\n",
      "Requirement already satisfied, skipping upgrade: futures>=3.1.1; python_version < \"3\" in /home/sergeys/anaconda3/envs/ipykernel_py2/lib/python2.7/site-packages (from tensorboard<2.2.0,>=2.1.0->tensorflow-gpu) (3.3.0)\n",
      "Requirement already satisfied, skipping upgrade: google-auth<2,>=1.6.3 in /home/sergeys/anaconda3/envs/ipykernel_py2/lib/python2.7/site-packages (from tensorboard<2.2.0,>=2.1.0->tensorflow-gpu) (1.13.1)\n",
      "Requirement already satisfied, skipping upgrade: werkzeug>=0.11.15 in /home/sergeys/anaconda3/envs/ipykernel_py2/lib/python2.7/site-packages (from tensorboard<2.2.0,>=2.1.0->tensorflow-gpu) (1.0.1)\n",
      "Requirement already satisfied, skipping upgrade: markdown>=2.6.8 in /home/sergeys/anaconda3/envs/ipykernel_py2/lib/python2.7/site-packages (from tensorboard<2.2.0,>=2.1.0->tensorflow-gpu) (3.1.1)\n",
      "Requirement already satisfied, skipping upgrade: requests<3,>=2.21.0 in /home/sergeys/anaconda3/envs/ipykernel_py2/lib/python2.7/site-packages (from tensorboard<2.2.0,>=2.1.0->tensorflow-gpu) (2.23.0)\n",
      "Requirement already satisfied, skipping upgrade: setuptools>=41.0.0 in /home/sergeys/anaconda3/envs/ipykernel_py2/lib/python2.7/site-packages (from tensorboard<2.2.0,>=2.1.0->tensorflow-gpu) (44.0.0.post20200106)\n",
      "Requirement already satisfied, skipping upgrade: funcsigs>=1; python_version < \"3.3\" in /home/sergeys/anaconda3/envs/ipykernel_py2/lib/python2.7/site-packages (from mock>=2.0.0; python_version < \"3\"->tensorflow-gpu) (1.0.2)\n",
      "Requirement already satisfied, skipping upgrade: requests-oauthlib>=0.7.0 in /home/sergeys/anaconda3/envs/ipykernel_py2/lib/python2.7/site-packages (from google-auth-oauthlib<0.5,>=0.4.1->tensorboard<2.2.0,>=2.1.0->tensorflow-gpu) (1.3.0)\n",
      "Requirement already satisfied, skipping upgrade: pyasn1-modules>=0.2.1 in /home/sergeys/anaconda3/envs/ipykernel_py2/lib/python2.7/site-packages (from google-auth<2,>=1.6.3->tensorboard<2.2.0,>=2.1.0->tensorflow-gpu) (0.2.8)\n",
      "Requirement already satisfied, skipping upgrade: cachetools<5.0,>=2.0.0 in /home/sergeys/anaconda3/envs/ipykernel_py2/lib/python2.7/site-packages (from google-auth<2,>=1.6.3->tensorboard<2.2.0,>=2.1.0->tensorflow-gpu) (3.1.1)\n",
      "Requirement already satisfied, skipping upgrade: rsa<4.1,>=3.1.4 in /home/sergeys/anaconda3/envs/ipykernel_py2/lib/python2.7/site-packages (from google-auth<2,>=1.6.3->tensorboard<2.2.0,>=2.1.0->tensorflow-gpu) (4.0)\n",
      "Requirement already satisfied, skipping upgrade: urllib3!=1.25.0,!=1.25.1,<1.26,>=1.21.1 in /home/sergeys/anaconda3/envs/ipykernel_py2/lib/python2.7/site-packages (from requests<3,>=2.21.0->tensorboard<2.2.0,>=2.1.0->tensorflow-gpu) (1.25.8)\n",
      "Requirement already satisfied, skipping upgrade: idna<3,>=2.5 in /home/sergeys/anaconda3/envs/ipykernel_py2/lib/python2.7/site-packages (from requests<3,>=2.21.0->tensorboard<2.2.0,>=2.1.0->tensorflow-gpu) (2.9)\n",
      "Requirement already satisfied, skipping upgrade: chardet<4,>=3.0.2 in /home/sergeys/anaconda3/envs/ipykernel_py2/lib/python2.7/site-packages (from requests<3,>=2.21.0->tensorboard<2.2.0,>=2.1.0->tensorflow-gpu) (3.0.4)\n",
      "Requirement already satisfied, skipping upgrade: certifi>=2017.4.17 in /home/sergeys/anaconda3/envs/ipykernel_py2/lib/python2.7/site-packages (from requests<3,>=2.21.0->tensorboard<2.2.0,>=2.1.0->tensorflow-gpu) (2019.11.28)\n",
      "Requirement already satisfied, skipping upgrade: oauthlib>=3.0.0 in /home/sergeys/anaconda3/envs/ipykernel_py2/lib/python2.7/site-packages (from requests-oauthlib>=0.7.0->google-auth-oauthlib<0.5,>=0.4.1->tensorboard<2.2.0,>=2.1.0->tensorflow-gpu) (3.1.0)\n",
      "Requirement already satisfied, skipping upgrade: pyasn1<0.5.0,>=0.4.6 in /home/sergeys/anaconda3/envs/ipykernel_py2/lib/python2.7/site-packages (from pyasn1-modules>=0.2.1->google-auth<2,>=1.6.3->tensorboard<2.2.0,>=2.1.0->tensorflow-gpu) (0.4.8)\n"
     ]
    },
    {
     "name": "stdout",
     "output_type": "stream",
     "text": [
      "Installing collected packages: tensorflow-gpu\n",
      "Successfully installed tensorflow-gpu-2.1.0\n"
     ]
    }
   ],
   "source": [
    "!pip install --upgrade tensorflow-gpu"
   ]
  },
  {
   "cell_type": "code",
   "execution_count": 3,
   "metadata": {},
   "outputs": [
    {
     "name": "stdout",
     "output_type": "stream",
     "text": [
      "\u001b[33mDEPRECATION: Python 2.7 will reach the end of its life on January 1st, 2020. Please upgrade your Python as Python 2.7 won't be maintained after that date. A future version of pip will drop support for Python 2.7. More details about Python 2 support in pip, can be found at https://pip.pypa.io/en/latest/development/release-process/#python-2-support\u001b[0m\n",
      "Requirement already up-to-date: numpy in /home/sergeys/anaconda3/envs/ipykernel_py2/lib/python2.7/site-packages (1.16.6)\n"
     ]
    }
   ],
   "source": [
    "!pip install --upgrade numpy"
   ]
  },
  {
   "cell_type": "code",
   "execution_count": null,
   "metadata": {},
   "outputs": [],
   "source": []
  }
 ],
 "metadata": {
  "kernelspec": {
   "display_name": "Python 2",
   "language": "python",
   "name": "python2"
  },
  "language_info": {
   "codemirror_mode": {
    "name": "ipython",
    "version": 2
   },
   "file_extension": ".py",
   "mimetype": "text/x-python",
   "name": "python",
   "nbconvert_exporter": "python",
   "pygments_lexer": "ipython2",
   "version": "2.7.17"
  }
 },
 "nbformat": 4,
 "nbformat_minor": 2
}
